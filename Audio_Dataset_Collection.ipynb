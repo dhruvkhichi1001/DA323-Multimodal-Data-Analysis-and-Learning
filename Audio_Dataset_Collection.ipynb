{
  "nbformat": 4,
  "nbformat_minor": 0,
  "metadata": {
    "colab": {
      "provenance": []
    },
    "kernelspec": {
      "name": "python3",
      "display_name": "Python 3"
    },
    "language_info": {
      "name": "python"
    }
  },
  "cells": [
    {
      "cell_type": "code",
      "source": [
        "!pip install openai-whisper\n",
        "!brew install ffmpeg  # For macOS (if using Homebrew)"
      ],
      "metadata": {
        "id": "wxIxp8DMQBCw"
      },
      "execution_count": null,
      "outputs": []
    },
    {
      "cell_type": "code",
      "source": [
        "import os\n",
        "import subprocess\n",
        "import time\n",
        "import csv\n",
        "from datetime import datetime\n",
        "import whisper  # OpenAI Whisper for Speech-to-Text\n",
        "\n",
        "# 📌 Define radio station streams\n",
        "radio_stations = {\n",
        "    \"BBC World News\": \"http://stream.live.vc.bbcmedia.co.uk/bbc_world_service\",\n",
        "    \"NPR News\": \"https://npr-ice.streamguys1.com/live.mp3\",\n",
        "    \"Classic FM\": \"http://media-ice.musicradio.com/ClassicFMMP3\",\n",
        "    \"Jazz FM\": \"http://media-ice.musicradio.com/JazzFMMP3\",\n",
        "    \"Radio Paradise\": \"http://stream-dc1.radioparadise.com/aac-320\",\n",
        "    \"Smooth Radio\": \"http://media-ice.musicradio.com/SmoothUKMP3\"\n",
        "}\n",
        "\n",
        "# 📁 Output directories\n",
        "output_dir = \"RadioStream_30\"\n",
        "text_dir = \"Transcriptions\"\n",
        "metadata_file = os.path.join(output_dir, \"metadata.csv\")\n",
        "\n",
        "# 📌 Ensure directories exist\n",
        "os.makedirs(output_dir, exist_ok=True)\n",
        "os.makedirs(text_dir, exist_ok=True)\n",
        "\n",
        "# 📌 Load Whisper model (small or base recommended for speed)\n",
        "whisper_model = whisper.load_model(\"small\")\n",
        "\n",
        "# 📌 Open metadata CSV file\n",
        "with open(metadata_file, \"w\", newline=\"\", encoding=\"utf-8\") as csvfile:\n",
        "    fieldnames = [\"Station\", \"File Name\", \"Timestamp\", \"Duration (s)\", \"Transcription File\"]\n",
        "    writer = csv.DictWriter(csvfile, fieldnames=fieldnames)\n",
        "    writer.writeheader()\n",
        "\n",
        "    # 🔄 Record 30 audio files\n",
        "    for i in range(30):\n",
        "        station_name, stream_url = list(radio_stations.items())[i % len(radio_stations)]  # Cycle through stations\n",
        "        duration = 30 + (i % 61)  # Random duration between 30-90s\n",
        "        timestamp = datetime.now().strftime(\"%Y-%m-%d_%H-%M-%S\")\n",
        "        audio_filename = f\"{station_name.replace(' ', '_')}_{timestamp}.mp3\"\n",
        "        audio_filepath = os.path.join(output_dir, audio_filename)\n",
        "\n",
        "        print(f\"🎙️ Recording {station_name} for {duration}s...\")\n",
        "\n",
        "        # 🎵 Use FFmpeg to record audio stream\n",
        "        command = [\n",
        "            \"ffmpeg\",\n",
        "            \"-i\", stream_url,\n",
        "            \"-t\", str(duration),\n",
        "            \"-acodec\", \"mp3\",\n",
        "            \"-y\", audio_filepath  # Overwrite if exists\n",
        "        ]\n",
        "        subprocess.run(command, stdout=subprocess.DEVNULL, stderr=subprocess.DEVNULL)\n",
        "\n",
        "        # 🎤 Convert audio to text using Whisper\n",
        "        print(f\"📝 Transcribing {audio_filename}...\")\n",
        "        transcription = whisper_model.transcribe(audio_filepath)[\"text\"]\n",
        "\n",
        "        # 📜 Save transcription\n",
        "        text_filename = f\"{station_name.replace(' ', '_')}_{timestamp}.txt\"\n",
        "        text_filepath = os.path.join(text_dir, text_filename)\n",
        "        with open(text_filepath, \"w\", encoding=\"utf-8\") as textfile:\n",
        "            textfile.write(transcription)\n",
        "\n",
        "        # 📝 Store metadata\n",
        "        writer.writerow({\n",
        "            \"Station\": station_name,\n",
        "            \"File Name\": audio_filename,\n",
        "            \"Timestamp\": timestamp,\n",
        "            \"Duration (s)\": duration,\n",
        "            \"Transcription File\": text_filename\n",
        "        })\n",
        "\n",
        "        print(f\"✅ Done! Audio & transcription saved.\\n\")\n",
        "        time.sleep(2)  # Small delay between recordings\n",
        "\n",
        "print(\"🎉 Recording & Transcription Complete! All files are saved.\")\n"
      ],
      "metadata": {
        "id": "a0maEw7KPg9Y"
      },
      "execution_count": 1,
      "outputs": []
    }
  ]
}