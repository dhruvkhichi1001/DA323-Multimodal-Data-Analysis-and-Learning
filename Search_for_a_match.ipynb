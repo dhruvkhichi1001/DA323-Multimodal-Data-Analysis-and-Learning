{
  "cells": [
    {
      "cell_type": "code",
      "source": [
        "import zipfile\n",
        "import os\n",
        "\n",
        "zip_path = \"/content/Ball.zip\"  # Replace with your uploaded file name\n",
        "extract_path = \"/content/dataset\"\n",
        "\n",
        "with zipfile.ZipFile(zip_path, \"r\") as zip_ref:\n",
        "    zip_ref.extractall(extract_path)\n",
        "\n",
        "print(\"✅ Dataset extracted to:\", extract_path)"
      ],
      "metadata": {
        "colab": {
          "base_uri": "https://localhost:8080/"
        },
        "id": "Rz3r82pGmAFP",
        "outputId": "b18ceab7-76be-4767-f2ef-391e656dbd50"
      },
      "id": "Rz3r82pGmAFP",
      "execution_count": 4,
      "outputs": [
        {
          "output_type": "stream",
          "name": "stdout",
          "text": [
            "✅ Dataset extracted to: /content/dataset\n"
          ]
        }
      ]
    },
    {
      "cell_type": "code",
      "execution_count": 1,
      "id": "693134aa",
      "metadata": {
        "execution": {
          "iopub.execute_input": "2025-03-13T18:21:41.073957Z",
          "iopub.status.busy": "2025-03-13T18:21:41.073532Z",
          "iopub.status.idle": "2025-03-13T18:22:01.414795Z",
          "shell.execute_reply": "2025-03-13T18:22:01.413376Z"
        },
        "papermill": {
          "duration": 20.356165,
          "end_time": "2025-03-13T18:22:01.417217",
          "exception": false,
          "start_time": "2025-03-13T18:21:41.061052",
          "status": "completed"
        },
        "tags": [],
        "colab": {
          "base_uri": "https://localhost:8080/"
        },
        "id": "693134aa",
        "outputId": "17a22beb-60cb-4584-f5f4-a7c9b0139fc7"
      },
      "outputs": [
        {
          "output_type": "stream",
          "name": "stdout",
          "text": [
            "Collecting fastdtw\n",
            "  Downloading fastdtw-0.3.4.tar.gz (133 kB)\n",
            "\u001b[?25l     \u001b[90m━━━━━━━━━━━━━━━━━━━━━━━━━━━━━━━━━━━━━━━━\u001b[0m \u001b[32m0.0/133.4 kB\u001b[0m \u001b[31m?\u001b[0m eta \u001b[36m-:--:--\u001b[0m\r\u001b[2K     \u001b[91m━━━━━━━━━━━━━━━━━━━━━━━━━━━━━━━━━━━━━━━\u001b[0m\u001b[91m╸\u001b[0m \u001b[32m133.1/133.4 kB\u001b[0m \u001b[31m5.6 MB/s\u001b[0m eta \u001b[36m0:00:01\u001b[0m\r\u001b[2K     \u001b[90m━━━━━━━━━━━━━━━━━━━━━━━━━━━━━━━━━━━━━━━━\u001b[0m \u001b[32m133.4/133.4 kB\u001b[0m \u001b[31m3.5 MB/s\u001b[0m eta \u001b[36m0:00:00\u001b[0m\n",
            "\u001b[?25h  Preparing metadata (setup.py) ... \u001b[?25l\u001b[?25hdone\n",
            "Requirement already satisfied: numpy in /usr/local/lib/python3.11/dist-packages (from fastdtw) (2.0.2)\n",
            "Building wheels for collected packages: fastdtw\n",
            "  Building wheel for fastdtw (setup.py) ... \u001b[?25l\u001b[?25hdone\n",
            "  Created wheel for fastdtw: filename=fastdtw-0.3.4-cp311-cp311-linux_x86_64.whl size=542087 sha256=c82e0f55e6109afc3f7d26764170ddc440d0739b261b5b8b5ecad8346bff75dc\n",
            "  Stored in directory: /root/.cache/pip/wheels/5c/8a/f6/fd3df9a9714677410a5ccbf3ca519e66db4a54a1c46ea95332\n",
            "Successfully built fastdtw\n",
            "Installing collected packages: fastdtw\n",
            "Successfully installed fastdtw-0.3.4\n"
          ]
        }
      ],
      "source": [
        "!pip install fastdtw"
      ]
    },
    {
      "cell_type": "code",
      "execution_count": 2,
      "id": "fed0891f",
      "metadata": {
        "_cell_guid": "b1076dfc-b9ad-4769-8c92-a6c4dae69d19",
        "_uuid": "8f2839f25d086af736a60e9eeb907d3b93b6e0e5",
        "execution": {
          "iopub.execute_input": "2025-03-13T18:22:01.441433Z",
          "iopub.status.busy": "2025-03-13T18:22:01.441042Z",
          "iopub.status.idle": "2025-03-13T18:22:07.497741Z",
          "shell.execute_reply": "2025-03-13T18:22:07.496530Z"
        },
        "papermill": {
          "duration": 6.071006,
          "end_time": "2025-03-13T18:22:07.499683",
          "exception": false,
          "start_time": "2025-03-13T18:22:01.428677",
          "status": "completed"
        },
        "tags": [],
        "colab": {
          "base_uri": "https://localhost:8080/"
        },
        "id": "fed0891f",
        "outputId": "1187323c-ceb4-4453-cd19-3d271353fd5b"
      },
      "outputs": [
        {
          "output_type": "stream",
          "name": "stderr",
          "text": [
            "WARNING:py.warnings:/usr/local/lib/python3.11/dist-packages/moviepy/video/io/sliders.py:61: SyntaxWarning: \"is\" with a literal. Did you mean \"==\"?\n",
            "  if event.key is 'enter':\n",
            "\n"
          ]
        }
      ],
      "source": [
        "import cv2\n",
        "import numpy as np\n",
        "import librosa\n",
        "import librosa.display\n",
        "import scipy.signal\n",
        "import os\n",
        "import IPython.display as ipd\n",
        "import random\n",
        "import warnings\n",
        "from moviepy.editor import VideoFileClip\n",
        "from tqdm import tqdm\n",
        "import pandas as pd\n",
        "import librosa\n",
        "import scipy.io.wavfile as wav\n",
        "import scipy.signal as signal\n",
        "import matplotlib.pyplot as plt\n",
        "import seaborn as sns\n",
        "from scipy.stats import pearsonr\n",
        "from scipy.signal import iirfilter, lfilter, find_peaks\n",
        "from fastdtw import fastdtw\n",
        "from scipy.spatial.distance import euclidean\n",
        "from itertools import product\n",
        "from moviepy.editor import VideoFileClip, AudioFileClip\n",
        "from scipy.signal import correlate\n",
        "from sklearn.neighbors import NearestNeighbors\n",
        "from scipy.optimize import linear_sum_assignment\n",
        "import shutil"
      ]
    },
    {
      "cell_type": "code",
      "execution_count": 3,
      "id": "f2ad6a6d",
      "metadata": {
        "execution": {
          "iopub.execute_input": "2025-03-13T18:22:07.524090Z",
          "iopub.status.busy": "2025-03-13T18:22:07.523537Z",
          "iopub.status.idle": "2025-03-13T18:22:07.527890Z",
          "shell.execute_reply": "2025-03-13T18:22:07.526948Z"
        },
        "papermill": {
          "duration": 0.01813,
          "end_time": "2025-03-13T18:22:07.529409",
          "exception": false,
          "start_time": "2025-03-13T18:22:07.511279",
          "status": "completed"
        },
        "tags": [],
        "id": "f2ad6a6d"
      },
      "outputs": [],
      "source": [
        "warnings.filterwarnings(\"ignore\")"
      ]
    },
    {
      "cell_type": "code",
      "execution_count": 5,
      "id": "c9fdb86d",
      "metadata": {
        "execution": {
          "iopub.execute_input": "2025-03-13T18:22:07.552148Z",
          "iopub.status.busy": "2025-03-13T18:22:07.551757Z",
          "iopub.status.idle": "2025-03-13T18:22:07.555510Z",
          "shell.execute_reply": "2025-03-13T18:22:07.554646Z"
        },
        "papermill": {
          "duration": 0.016818,
          "end_time": "2025-03-13T18:22:07.557043",
          "exception": false,
          "start_time": "2025-03-13T18:22:07.540225",
          "status": "completed"
        },
        "tags": [],
        "id": "c9fdb86d"
      },
      "outputs": [],
      "source": [
        "audio_folder = \"/content/dataset/audio_only\"\n",
        "video_folder = \"/content/dataset/video_only\""
      ]
    },
    {
      "cell_type": "code",
      "execution_count": 6,
      "id": "2ef8c70d",
      "metadata": {
        "execution": {
          "iopub.execute_input": "2025-03-13T18:22:07.580154Z",
          "iopub.status.busy": "2025-03-13T18:22:07.579773Z",
          "iopub.status.idle": "2025-03-13T18:22:07.612006Z",
          "shell.execute_reply": "2025-03-13T18:22:07.610774Z"
        },
        "papermill": {
          "duration": 0.046184,
          "end_time": "2025-03-13T18:22:07.614108",
          "exception": false,
          "start_time": "2025-03-13T18:22:07.567924",
          "status": "completed"
        },
        "tags": [],
        "id": "2ef8c70d"
      },
      "outputs": [],
      "source": [
        "audio_files = [f for f in os.listdir(audio_folder) if f.endswith(\".wav\") or f.endswith(\".mp3\")]\n",
        "video_files = [f for f in os.listdir(video_folder) if f.endswith(\".mp4\")]"
      ]
    },
    {
      "cell_type": "code",
      "execution_count": 7,
      "id": "fe89b58a",
      "metadata": {
        "execution": {
          "iopub.execute_input": "2025-03-13T18:22:11.570011Z",
          "iopub.status.busy": "2025-03-13T18:22:11.569613Z",
          "iopub.status.idle": "2025-03-13T18:22:11.574488Z",
          "shell.execute_reply": "2025-03-13T18:22:11.573306Z"
        },
        "papermill": {
          "duration": 0.058671,
          "end_time": "2025-03-13T18:22:11.576097",
          "exception": false,
          "start_time": "2025-03-13T18:22:11.517426",
          "status": "completed"
        },
        "tags": [],
        "id": "fe89b58a"
      },
      "outputs": [],
      "source": [
        "lower_blue = np.array([100, 150, 50])\n",
        "upper_blue = np.array([140, 255, 255])\n",
        "box_x_min, box_y_min = 80, 60\n",
        "box_x_max, box_y_max = 575, 420"
      ]
    },
    {
      "cell_type": "code",
      "execution_count": 10,
      "id": "d8f5f9ed",
      "metadata": {
        "execution": {
          "iopub.execute_input": "2025-03-13T18:22:22.128751Z",
          "iopub.status.busy": "2025-03-13T18:22:22.128376Z",
          "iopub.status.idle": "2025-03-13T18:22:22.132515Z",
          "shell.execute_reply": "2025-03-13T18:22:22.131413Z"
        },
        "papermill": {
          "duration": 0.071867,
          "end_time": "2025-03-13T18:22:22.134114",
          "exception": false,
          "start_time": "2025-03-13T18:22:22.062247",
          "status": "completed"
        },
        "tags": [],
        "id": "d8f5f9ed"
      },
      "outputs": [],
      "source": [
        "tracking_data = []"
      ]
    },
    {
      "cell_type": "code",
      "execution_count": 11,
      "id": "35966358",
      "metadata": {
        "execution": {
          "iopub.execute_input": "2025-03-13T18:22:22.387752Z",
          "iopub.status.busy": "2025-03-13T18:22:22.387368Z",
          "iopub.status.idle": "2025-03-13T18:25:07.458521Z",
          "shell.execute_reply": "2025-03-13T18:25:07.457324Z"
        },
        "papermill": {
          "duration": 165.203856,
          "end_time": "2025-03-13T18:25:07.526010",
          "exception": false,
          "start_time": "2025-03-13T18:22:22.322154",
          "status": "completed"
        },
        "tags": [],
        "colab": {
          "base_uri": "https://localhost:8080/"
        },
        "id": "35966358",
        "outputId": "bea88f1b-d1d2-4f3e-e0a2-3ae4b82d5493"
      },
      "outputs": [
        {
          "output_type": "stream",
          "name": "stderr",
          "text": [
            "Processing Videos: 100%|██████████| 45/45 [02:59<00:00,  3.99s/it]\n"
          ]
        }
      ],
      "source": [
        "for video_file in tqdm(video_files, desc=\"Processing Videos\"):\n",
        "    video_path = os.path.join(video_folder, video_file)\n",
        "    cap = cv2.VideoCapture(video_path)\n",
        "\n",
        "    fps = cap.get(cv2.CAP_PROP_FPS)\n",
        "    duration_per_frame = 1 / fps\n",
        "\n",
        "    frame_number = 0\n",
        "\n",
        "    while cap.isOpened():\n",
        "        ret, frame = cap.read()\n",
        "        if not ret:\n",
        "            break\n",
        "\n",
        "        frame_number += 1\n",
        "        frame_resized = cv2.resize(frame, (640, 480))\n",
        "        hsv = cv2.cvtColor(frame_resized, cv2.COLOR_BGR2HSV)\n",
        "        mask = cv2.inRange(hsv, lower_blue, upper_blue)\n",
        "\n",
        "        contours, _ = cv2.findContours(mask, cv2.RETR_EXTERNAL, cv2.CHAIN_APPROX_SIMPLE)\n",
        "\n",
        "        if contours:\n",
        "            largest_contour = max(contours, key=cv2.contourArea)\n",
        "            (x, y), radius = cv2.minEnclosingCircle(largest_contour)\n",
        "            x, y, radius = int(x), int(y), int(radius)\n",
        "\n",
        "            timestamp = frame_number * duration_per_frame\n",
        "            tracking_data.append([video_file, frame_number, timestamp, x, y, radius])\n",
        "\n",
        "    cap.release()\n"
      ]
    },
    {
      "cell_type": "code",
      "execution_count": 12,
      "id": "a582338c",
      "metadata": {
        "execution": {
          "iopub.execute_input": "2025-03-13T18:25:07.659204Z",
          "iopub.status.busy": "2025-03-13T18:25:07.658843Z",
          "iopub.status.idle": "2025-03-13T18:25:07.719160Z",
          "shell.execute_reply": "2025-03-13T18:25:07.718141Z"
        },
        "papermill": {
          "duration": 0.129761,
          "end_time": "2025-03-13T18:25:07.721076",
          "exception": false,
          "start_time": "2025-03-13T18:25:07.591315",
          "status": "completed"
        },
        "tags": [],
        "id": "a582338c"
      },
      "outputs": [],
      "source": [
        "df_tracking = pd.DataFrame(tracking_data, columns=[\"Video\", \"Frame\", \"Timestamp\", \"X\", \"Y\", \"Radius\"])"
      ]
    },
    {
      "cell_type": "code",
      "execution_count": 13,
      "id": "12e11181",
      "metadata": {
        "execution": {
          "iopub.execute_input": "2025-03-13T18:25:07.855413Z",
          "iopub.status.busy": "2025-03-13T18:25:07.854956Z",
          "iopub.status.idle": "2025-03-13T18:25:07.888004Z",
          "shell.execute_reply": "2025-03-13T18:25:07.887148Z"
        },
        "papermill": {
          "duration": 0.10332,
          "end_time": "2025-03-13T18:25:07.890007",
          "exception": false,
          "start_time": "2025-03-13T18:25:07.786687",
          "status": "completed"
        },
        "tags": [],
        "id": "12e11181"
      },
      "outputs": [],
      "source": [
        "df_tracking = df_tracking.sort_values(by=[\"Video\", \"Frame\"], ascending=[True, True]).reset_index(drop=True)"
      ]
    },
    {
      "cell_type": "code",
      "execution_count": 14,
      "id": "48435da9",
      "metadata": {
        "execution": {
          "iopub.execute_input": "2025-03-13T18:25:08.023633Z",
          "iopub.status.busy": "2025-03-13T18:25:08.023284Z",
          "iopub.status.idle": "2025-03-13T18:25:08.045567Z",
          "shell.execute_reply": "2025-03-13T18:25:08.044532Z"
        },
        "papermill": {
          "duration": 0.092621,
          "end_time": "2025-03-13T18:25:08.047924",
          "exception": false,
          "start_time": "2025-03-13T18:25:07.955303",
          "status": "completed"
        },
        "tags": [],
        "colab": {
          "base_uri": "https://localhost:8080/",
          "height": 206
        },
        "id": "48435da9",
        "outputId": "83e6baeb-086e-4853-e049-baeeef38b36d"
      },
      "outputs": [
        {
          "output_type": "execute_result",
          "data": {
            "text/plain": [
              "                 Video  Frame  Timestamp    X    Y  Radius\n",
              "0  video_only_ID_1.mp4      1   0.016667  328  238       8\n",
              "1  video_only_ID_1.mp4      2   0.033333  341  237       8\n",
              "2  video_only_ID_1.mp4      3   0.050000  354  233       8\n",
              "3  video_only_ID_1.mp4      4   0.066667  366  231       8\n",
              "4  video_only_ID_1.mp4      5   0.083333  379  230       8"
            ],
            "text/html": [
              "\n",
              "  <div id=\"df-71d8a8d7-107a-437d-886e-516d598433d0\" class=\"colab-df-container\">\n",
              "    <div>\n",
              "<style scoped>\n",
              "    .dataframe tbody tr th:only-of-type {\n",
              "        vertical-align: middle;\n",
              "    }\n",
              "\n",
              "    .dataframe tbody tr th {\n",
              "        vertical-align: top;\n",
              "    }\n",
              "\n",
              "    .dataframe thead th {\n",
              "        text-align: right;\n",
              "    }\n",
              "</style>\n",
              "<table border=\"1\" class=\"dataframe\">\n",
              "  <thead>\n",
              "    <tr style=\"text-align: right;\">\n",
              "      <th></th>\n",
              "      <th>Video</th>\n",
              "      <th>Frame</th>\n",
              "      <th>Timestamp</th>\n",
              "      <th>X</th>\n",
              "      <th>Y</th>\n",
              "      <th>Radius</th>\n",
              "    </tr>\n",
              "  </thead>\n",
              "  <tbody>\n",
              "    <tr>\n",
              "      <th>0</th>\n",
              "      <td>video_only_ID_1.mp4</td>\n",
              "      <td>1</td>\n",
              "      <td>0.016667</td>\n",
              "      <td>328</td>\n",
              "      <td>238</td>\n",
              "      <td>8</td>\n",
              "    </tr>\n",
              "    <tr>\n",
              "      <th>1</th>\n",
              "      <td>video_only_ID_1.mp4</td>\n",
              "      <td>2</td>\n",
              "      <td>0.033333</td>\n",
              "      <td>341</td>\n",
              "      <td>237</td>\n",
              "      <td>8</td>\n",
              "    </tr>\n",
              "    <tr>\n",
              "      <th>2</th>\n",
              "      <td>video_only_ID_1.mp4</td>\n",
              "      <td>3</td>\n",
              "      <td>0.050000</td>\n",
              "      <td>354</td>\n",
              "      <td>233</td>\n",
              "      <td>8</td>\n",
              "    </tr>\n",
              "    <tr>\n",
              "      <th>3</th>\n",
              "      <td>video_only_ID_1.mp4</td>\n",
              "      <td>4</td>\n",
              "      <td>0.066667</td>\n",
              "      <td>366</td>\n",
              "      <td>231</td>\n",
              "      <td>8</td>\n",
              "    </tr>\n",
              "    <tr>\n",
              "      <th>4</th>\n",
              "      <td>video_only_ID_1.mp4</td>\n",
              "      <td>5</td>\n",
              "      <td>0.083333</td>\n",
              "      <td>379</td>\n",
              "      <td>230</td>\n",
              "      <td>8</td>\n",
              "    </tr>\n",
              "  </tbody>\n",
              "</table>\n",
              "</div>\n",
              "    <div class=\"colab-df-buttons\">\n",
              "\n",
              "  <div class=\"colab-df-container\">\n",
              "    <button class=\"colab-df-convert\" onclick=\"convertToInteractive('df-71d8a8d7-107a-437d-886e-516d598433d0')\"\n",
              "            title=\"Convert this dataframe to an interactive table.\"\n",
              "            style=\"display:none;\">\n",
              "\n",
              "  <svg xmlns=\"http://www.w3.org/2000/svg\" height=\"24px\" viewBox=\"0 -960 960 960\">\n",
              "    <path d=\"M120-120v-720h720v720H120Zm60-500h600v-160H180v160Zm220 220h160v-160H400v160Zm0 220h160v-160H400v160ZM180-400h160v-160H180v160Zm440 0h160v-160H620v160ZM180-180h160v-160H180v160Zm440 0h160v-160H620v160Z\"/>\n",
              "  </svg>\n",
              "    </button>\n",
              "\n",
              "  <style>\n",
              "    .colab-df-container {\n",
              "      display:flex;\n",
              "      gap: 12px;\n",
              "    }\n",
              "\n",
              "    .colab-df-convert {\n",
              "      background-color: #E8F0FE;\n",
              "      border: none;\n",
              "      border-radius: 50%;\n",
              "      cursor: pointer;\n",
              "      display: none;\n",
              "      fill: #1967D2;\n",
              "      height: 32px;\n",
              "      padding: 0 0 0 0;\n",
              "      width: 32px;\n",
              "    }\n",
              "\n",
              "    .colab-df-convert:hover {\n",
              "      background-color: #E2EBFA;\n",
              "      box-shadow: 0px 1px 2px rgba(60, 64, 67, 0.3), 0px 1px 3px 1px rgba(60, 64, 67, 0.15);\n",
              "      fill: #174EA6;\n",
              "    }\n",
              "\n",
              "    .colab-df-buttons div {\n",
              "      margin-bottom: 4px;\n",
              "    }\n",
              "\n",
              "    [theme=dark] .colab-df-convert {\n",
              "      background-color: #3B4455;\n",
              "      fill: #D2E3FC;\n",
              "    }\n",
              "\n",
              "    [theme=dark] .colab-df-convert:hover {\n",
              "      background-color: #434B5C;\n",
              "      box-shadow: 0px 1px 3px 1px rgba(0, 0, 0, 0.15);\n",
              "      filter: drop-shadow(0px 1px 2px rgba(0, 0, 0, 0.3));\n",
              "      fill: #FFFFFF;\n",
              "    }\n",
              "  </style>\n",
              "\n",
              "    <script>\n",
              "      const buttonEl =\n",
              "        document.querySelector('#df-71d8a8d7-107a-437d-886e-516d598433d0 button.colab-df-convert');\n",
              "      buttonEl.style.display =\n",
              "        google.colab.kernel.accessAllowed ? 'block' : 'none';\n",
              "\n",
              "      async function convertToInteractive(key) {\n",
              "        const element = document.querySelector('#df-71d8a8d7-107a-437d-886e-516d598433d0');\n",
              "        const dataTable =\n",
              "          await google.colab.kernel.invokeFunction('convertToInteractive',\n",
              "                                                    [key], {});\n",
              "        if (!dataTable) return;\n",
              "\n",
              "        const docLinkHtml = 'Like what you see? Visit the ' +\n",
              "          '<a target=\"_blank\" href=https://colab.research.google.com/notebooks/data_table.ipynb>data table notebook</a>'\n",
              "          + ' to learn more about interactive tables.';\n",
              "        element.innerHTML = '';\n",
              "        dataTable['output_type'] = 'display_data';\n",
              "        await google.colab.output.renderOutput(dataTable, element);\n",
              "        const docLink = document.createElement('div');\n",
              "        docLink.innerHTML = docLinkHtml;\n",
              "        element.appendChild(docLink);\n",
              "      }\n",
              "    </script>\n",
              "  </div>\n",
              "\n",
              "\n",
              "<div id=\"df-a9996337-ee29-4f0c-9838-31b8674ce943\">\n",
              "  <button class=\"colab-df-quickchart\" onclick=\"quickchart('df-a9996337-ee29-4f0c-9838-31b8674ce943')\"\n",
              "            title=\"Suggest charts\"\n",
              "            style=\"display:none;\">\n",
              "\n",
              "<svg xmlns=\"http://www.w3.org/2000/svg\" height=\"24px\"viewBox=\"0 0 24 24\"\n",
              "     width=\"24px\">\n",
              "    <g>\n",
              "        <path d=\"M19 3H5c-1.1 0-2 .9-2 2v14c0 1.1.9 2 2 2h14c1.1 0 2-.9 2-2V5c0-1.1-.9-2-2-2zM9 17H7v-7h2v7zm4 0h-2V7h2v10zm4 0h-2v-4h2v4z\"/>\n",
              "    </g>\n",
              "</svg>\n",
              "  </button>\n",
              "\n",
              "<style>\n",
              "  .colab-df-quickchart {\n",
              "      --bg-color: #E8F0FE;\n",
              "      --fill-color: #1967D2;\n",
              "      --hover-bg-color: #E2EBFA;\n",
              "      --hover-fill-color: #174EA6;\n",
              "      --disabled-fill-color: #AAA;\n",
              "      --disabled-bg-color: #DDD;\n",
              "  }\n",
              "\n",
              "  [theme=dark] .colab-df-quickchart {\n",
              "      --bg-color: #3B4455;\n",
              "      --fill-color: #D2E3FC;\n",
              "      --hover-bg-color: #434B5C;\n",
              "      --hover-fill-color: #FFFFFF;\n",
              "      --disabled-bg-color: #3B4455;\n",
              "      --disabled-fill-color: #666;\n",
              "  }\n",
              "\n",
              "  .colab-df-quickchart {\n",
              "    background-color: var(--bg-color);\n",
              "    border: none;\n",
              "    border-radius: 50%;\n",
              "    cursor: pointer;\n",
              "    display: none;\n",
              "    fill: var(--fill-color);\n",
              "    height: 32px;\n",
              "    padding: 0;\n",
              "    width: 32px;\n",
              "  }\n",
              "\n",
              "  .colab-df-quickchart:hover {\n",
              "    background-color: var(--hover-bg-color);\n",
              "    box-shadow: 0 1px 2px rgba(60, 64, 67, 0.3), 0 1px 3px 1px rgba(60, 64, 67, 0.15);\n",
              "    fill: var(--button-hover-fill-color);\n",
              "  }\n",
              "\n",
              "  .colab-df-quickchart-complete:disabled,\n",
              "  .colab-df-quickchart-complete:disabled:hover {\n",
              "    background-color: var(--disabled-bg-color);\n",
              "    fill: var(--disabled-fill-color);\n",
              "    box-shadow: none;\n",
              "  }\n",
              "\n",
              "  .colab-df-spinner {\n",
              "    border: 2px solid var(--fill-color);\n",
              "    border-color: transparent;\n",
              "    border-bottom-color: var(--fill-color);\n",
              "    animation:\n",
              "      spin 1s steps(1) infinite;\n",
              "  }\n",
              "\n",
              "  @keyframes spin {\n",
              "    0% {\n",
              "      border-color: transparent;\n",
              "      border-bottom-color: var(--fill-color);\n",
              "      border-left-color: var(--fill-color);\n",
              "    }\n",
              "    20% {\n",
              "      border-color: transparent;\n",
              "      border-left-color: var(--fill-color);\n",
              "      border-top-color: var(--fill-color);\n",
              "    }\n",
              "    30% {\n",
              "      border-color: transparent;\n",
              "      border-left-color: var(--fill-color);\n",
              "      border-top-color: var(--fill-color);\n",
              "      border-right-color: var(--fill-color);\n",
              "    }\n",
              "    40% {\n",
              "      border-color: transparent;\n",
              "      border-right-color: var(--fill-color);\n",
              "      border-top-color: var(--fill-color);\n",
              "    }\n",
              "    60% {\n",
              "      border-color: transparent;\n",
              "      border-right-color: var(--fill-color);\n",
              "    }\n",
              "    80% {\n",
              "      border-color: transparent;\n",
              "      border-right-color: var(--fill-color);\n",
              "      border-bottom-color: var(--fill-color);\n",
              "    }\n",
              "    90% {\n",
              "      border-color: transparent;\n",
              "      border-bottom-color: var(--fill-color);\n",
              "    }\n",
              "  }\n",
              "</style>\n",
              "\n",
              "  <script>\n",
              "    async function quickchart(key) {\n",
              "      const quickchartButtonEl =\n",
              "        document.querySelector('#' + key + ' button');\n",
              "      quickchartButtonEl.disabled = true;  // To prevent multiple clicks.\n",
              "      quickchartButtonEl.classList.add('colab-df-spinner');\n",
              "      try {\n",
              "        const charts = await google.colab.kernel.invokeFunction(\n",
              "            'suggestCharts', [key], {});\n",
              "      } catch (error) {\n",
              "        console.error('Error during call to suggestCharts:', error);\n",
              "      }\n",
              "      quickchartButtonEl.classList.remove('colab-df-spinner');\n",
              "      quickchartButtonEl.classList.add('colab-df-quickchart-complete');\n",
              "    }\n",
              "    (() => {\n",
              "      let quickchartButtonEl =\n",
              "        document.querySelector('#df-a9996337-ee29-4f0c-9838-31b8674ce943 button');\n",
              "      quickchartButtonEl.style.display =\n",
              "        google.colab.kernel.accessAllowed ? 'block' : 'none';\n",
              "    })();\n",
              "  </script>\n",
              "</div>\n",
              "\n",
              "    </div>\n",
              "  </div>\n"
            ],
            "application/vnd.google.colaboratory.intrinsic+json": {
              "type": "dataframe",
              "variable_name": "df_tracking",
              "summary": "{\n  \"name\": \"df_tracking\",\n  \"rows\": 48741,\n  \"fields\": [\n    {\n      \"column\": \"Video\",\n      \"properties\": {\n        \"dtype\": \"category\",\n        \"num_unique_values\": 45,\n        \"samples\": [\n          \"video_only_ID_45.mp4\",\n          \"video_only_ID_32.mp4\",\n          \"video_only_ID_33.mp4\"\n        ],\n        \"semantic_type\": \"\",\n        \"description\": \"\"\n      }\n    },\n    {\n      \"column\": \"Frame\",\n      \"properties\": {\n        \"dtype\": \"number\",\n        \"std\": 346,\n        \"min\": 1,\n        \"max\": 1200,\n        \"num_unique_values\": 1200,\n        \"samples\": [\n          341,\n          888,\n          105\n        ],\n        \"semantic_type\": \"\",\n        \"description\": \"\"\n      }\n    },\n    {\n      \"column\": \"Timestamp\",\n      \"properties\": {\n        \"dtype\": \"number\",\n        \"std\": 5.768693786724459,\n        \"min\": 0.016666666666666666,\n        \"max\": 20.0,\n        \"num_unique_values\": 1200,\n        \"samples\": [\n          5.683333333333334,\n          14.799999999999999,\n          1.75\n        ],\n        \"semantic_type\": \"\",\n        \"description\": \"\"\n      }\n    },\n    {\n      \"column\": \"X\",\n      \"properties\": {\n        \"dtype\": \"number\",\n        \"std\": 144,\n        \"min\": 80,\n        \"max\": 576,\n        \"num_unique_values\": 497,\n        \"samples\": [\n          453,\n          339,\n          193\n        ],\n        \"semantic_type\": \"\",\n        \"description\": \"\"\n      }\n    },\n    {\n      \"column\": \"Y\",\n      \"properties\": {\n        \"dtype\": \"number\",\n        \"std\": 84,\n        \"min\": 59,\n        \"max\": 420,\n        \"num_unique_values\": 347,\n        \"samples\": [\n          86,\n          282,\n          176\n        ],\n        \"semantic_type\": \"\",\n        \"description\": \"\"\n      }\n    },\n    {\n      \"column\": \"Radius\",\n      \"properties\": {\n        \"dtype\": \"number\",\n        \"std\": 0,\n        \"min\": 0,\n        \"max\": 10,\n        \"num_unique_values\": 11,\n        \"samples\": [\n          4,\n          8,\n          0\n        ],\n        \"semantic_type\": \"\",\n        \"description\": \"\"\n      }\n    }\n  ]\n}"
            }
          },
          "metadata": {},
          "execution_count": 14
        }
      ],
      "source": [
        "df_tracking.head()"
      ]
    },
    {
      "cell_type": "code",
      "execution_count": 15,
      "id": "018d1043",
      "metadata": {
        "execution": {
          "iopub.execute_input": "2025-03-13T18:25:08.183155Z",
          "iopub.status.busy": "2025-03-13T18:25:08.182737Z",
          "iopub.status.idle": "2025-03-13T18:25:08.191582Z",
          "shell.execute_reply": "2025-03-13T18:25:08.190638Z"
        },
        "papermill": {
          "duration": 0.079566,
          "end_time": "2025-03-13T18:25:08.193510",
          "exception": false,
          "start_time": "2025-03-13T18:25:08.113944",
          "status": "completed"
        },
        "tags": [],
        "colab": {
          "base_uri": "https://localhost:8080/"
        },
        "id": "018d1043",
        "outputId": "9443f730-cdc4-423d-8eb1-db6f532eff39"
      },
      "outputs": [
        {
          "output_type": "execute_result",
          "data": {
            "text/plain": [
              "45"
            ]
          },
          "metadata": {},
          "execution_count": 15
        }
      ],
      "source": [
        "len(df_tracking.Video.unique())"
      ]
    },
    {
      "cell_type": "code",
      "execution_count": 16,
      "id": "f7d043e2",
      "metadata": {
        "execution": {
          "iopub.execute_input": "2025-03-13T18:25:08.326293Z",
          "iopub.status.busy": "2025-03-13T18:25:08.325946Z",
          "iopub.status.idle": "2025-03-13T18:25:08.331588Z",
          "shell.execute_reply": "2025-03-13T18:25:08.330676Z"
        },
        "papermill": {
          "duration": 0.073751,
          "end_time": "2025-03-13T18:25:08.333264",
          "exception": false,
          "start_time": "2025-03-13T18:25:08.259513",
          "status": "completed"
        },
        "tags": [],
        "colab": {
          "base_uri": "https://localhost:8080/"
        },
        "id": "f7d043e2",
        "outputId": "16d48d14-0247-45db-fe26-bcd0b43b2f03"
      },
      "outputs": [
        {
          "output_type": "execute_result",
          "data": {
            "text/plain": [
              "(48741, 6)"
            ]
          },
          "metadata": {},
          "execution_count": 16
        }
      ],
      "source": [
        "df_tracking.shape"
      ]
    },
    {
      "cell_type": "code",
      "execution_count": 17,
      "id": "c7e36b9c",
      "metadata": {
        "execution": {
          "iopub.execute_input": "2025-03-13T18:25:08.595667Z",
          "iopub.status.busy": "2025-03-13T18:25:08.595297Z",
          "iopub.status.idle": "2025-03-13T18:25:08.599481Z",
          "shell.execute_reply": "2025-03-13T18:25:08.598540Z"
        },
        "papermill": {
          "duration": 0.072318,
          "end_time": "2025-03-13T18:25:08.601246",
          "exception": false,
          "start_time": "2025-03-13T18:25:08.528928",
          "status": "completed"
        },
        "tags": [],
        "id": "c7e36b9c"
      },
      "outputs": [],
      "source": [
        "collision_data = []"
      ]
    },
    {
      "cell_type": "code",
      "execution_count": 18,
      "id": "62c126bd",
      "metadata": {
        "execution": {
          "iopub.execute_input": "2025-03-13T18:25:08.734009Z",
          "iopub.status.busy": "2025-03-13T18:25:08.733382Z",
          "iopub.status.idle": "2025-03-13T18:25:11.670626Z",
          "shell.execute_reply": "2025-03-13T18:25:11.669557Z"
        },
        "papermill": {
          "duration": 3.006001,
          "end_time": "2025-03-13T18:25:11.672550",
          "exception": false,
          "start_time": "2025-03-13T18:25:08.666549",
          "status": "completed"
        },
        "tags": [],
        "id": "62c126bd"
      },
      "outputs": [],
      "source": [
        "for video_file in df_tracking[\"Video\"].unique():\n",
        "    df_video = df_tracking[df_tracking[\"Video\"] == video_file]\n",
        "\n",
        "    prev_x, prev_y, prev_r = None, None, None\n",
        "\n",
        "    for index, row in df_video.iterrows():\n",
        "        x, y, r, timestamp = row[\"X\"], row[\"Y\"], row[\"Radius\"], row[\"Timestamp\"]\n",
        "\n",
        "        if prev_x is not None and prev_y is not None and prev_r is not None:\n",
        "            crossed_left = (prev_x - prev_r > box_x_min) and ((x - r) <= box_x_min)\n",
        "            crossed_right = (prev_x + prev_r < box_x_max) and ((x + r) >= box_x_max)\n",
        "            crossed_bottom = (prev_y + prev_r < box_y_max) and ((y + r) >= box_y_max)\n",
        "\n",
        "            if crossed_left or crossed_right or crossed_bottom:\n",
        "                collision_data.append([video_file, row[\"Frame\"], timestamp, x, y])\n",
        "\n",
        "        prev_x, prev_y, prev_r = x, y, r\n"
      ]
    },
    {
      "cell_type": "code",
      "execution_count": 19,
      "id": "d61a1e6f",
      "metadata": {
        "execution": {
          "iopub.execute_input": "2025-03-13T18:25:11.806000Z",
          "iopub.status.busy": "2025-03-13T18:25:11.805591Z",
          "iopub.status.idle": "2025-03-13T18:25:11.812191Z",
          "shell.execute_reply": "2025-03-13T18:25:11.811240Z"
        },
        "papermill": {
          "duration": 0.075065,
          "end_time": "2025-03-13T18:25:11.813673",
          "exception": false,
          "start_time": "2025-03-13T18:25:11.738608",
          "status": "completed"
        },
        "tags": [],
        "id": "d61a1e6f"
      },
      "outputs": [],
      "source": [
        "df_collision = pd.DataFrame(collision_data, columns=[\"Video\", \"Frame\", \"Timestamp\", \"X\", \"Y\"])"
      ]
    },
    {
      "cell_type": "code",
      "execution_count": 20,
      "id": "5358bf14",
      "metadata": {
        "execution": {
          "iopub.execute_input": "2025-03-13T18:25:11.945460Z",
          "iopub.status.busy": "2025-03-13T18:25:11.945079Z",
          "iopub.status.idle": "2025-03-13T18:25:11.952280Z",
          "shell.execute_reply": "2025-03-13T18:25:11.951161Z"
        },
        "papermill": {
          "duration": 0.075558,
          "end_time": "2025-03-13T18:25:11.954344",
          "exception": false,
          "start_time": "2025-03-13T18:25:11.878786",
          "status": "completed"
        },
        "tags": [],
        "id": "5358bf14"
      },
      "outputs": [],
      "source": [
        "df_collision = df_collision.sort_values(by=[\"Video\", \"Frame\"], ascending=[True, True]).reset_index(drop=True)"
      ]
    },
    {
      "cell_type": "code",
      "execution_count": 21,
      "id": "8a167802",
      "metadata": {
        "execution": {
          "iopub.execute_input": "2025-03-13T18:25:12.089082Z",
          "iopub.status.busy": "2025-03-13T18:25:12.088479Z",
          "iopub.status.idle": "2025-03-13T18:25:12.095978Z",
          "shell.execute_reply": "2025-03-13T18:25:12.094858Z"
        },
        "papermill": {
          "duration": 0.076828,
          "end_time": "2025-03-13T18:25:12.097919",
          "exception": false,
          "start_time": "2025-03-13T18:25:12.021091",
          "status": "completed"
        },
        "tags": [],
        "colab": {
          "base_uri": "https://localhost:8080/"
        },
        "id": "8a167802",
        "outputId": "102d4c58-82b6-4750-aade-f879c4fd6e57"
      },
      "outputs": [
        {
          "output_type": "execute_result",
          "data": {
            "text/plain": [
              "45"
            ]
          },
          "metadata": {},
          "execution_count": 21
        }
      ],
      "source": [
        "len(df_collision.Video.unique())"
      ]
    },
    {
      "cell_type": "code",
      "execution_count": 22,
      "id": "3e429b0a",
      "metadata": {
        "execution": {
          "iopub.execute_input": "2025-03-13T18:25:12.232184Z",
          "iopub.status.busy": "2025-03-13T18:25:12.231791Z",
          "iopub.status.idle": "2025-03-13T18:25:12.242343Z",
          "shell.execute_reply": "2025-03-13T18:25:12.241259Z"
        },
        "papermill": {
          "duration": 0.079951,
          "end_time": "2025-03-13T18:25:12.243955",
          "exception": false,
          "start_time": "2025-03-13T18:25:12.164004",
          "status": "completed"
        },
        "tags": [],
        "colab": {
          "base_uri": "https://localhost:8080/",
          "height": 206
        },
        "id": "3e429b0a",
        "outputId": "190051da-f41c-45f4-86fd-6260017b4d56"
      },
      "outputs": [
        {
          "output_type": "execute_result",
          "data": {
            "text/plain": [
              "                 Video  Frame  Timestamp    X    Y\n",
              "0  video_only_ID_1.mp4     20   0.333333  571  210\n",
              "1  video_only_ID_1.mp4     60   1.000000   86  266\n",
              "2  video_only_ID_1.mp4     90   1.500000  443  412\n",
              "3  video_only_ID_1.mp4    100   1.666667  571  377\n",
              "4  video_only_ID_1.mp4    140   2.333333   85  230"
            ],
            "text/html": [
              "\n",
              "  <div id=\"df-39b8fcf4-da4b-4216-ab88-7a7057db0b59\" class=\"colab-df-container\">\n",
              "    <div>\n",
              "<style scoped>\n",
              "    .dataframe tbody tr th:only-of-type {\n",
              "        vertical-align: middle;\n",
              "    }\n",
              "\n",
              "    .dataframe tbody tr th {\n",
              "        vertical-align: top;\n",
              "    }\n",
              "\n",
              "    .dataframe thead th {\n",
              "        text-align: right;\n",
              "    }\n",
              "</style>\n",
              "<table border=\"1\" class=\"dataframe\">\n",
              "  <thead>\n",
              "    <tr style=\"text-align: right;\">\n",
              "      <th></th>\n",
              "      <th>Video</th>\n",
              "      <th>Frame</th>\n",
              "      <th>Timestamp</th>\n",
              "      <th>X</th>\n",
              "      <th>Y</th>\n",
              "    </tr>\n",
              "  </thead>\n",
              "  <tbody>\n",
              "    <tr>\n",
              "      <th>0</th>\n",
              "      <td>video_only_ID_1.mp4</td>\n",
              "      <td>20</td>\n",
              "      <td>0.333333</td>\n",
              "      <td>571</td>\n",
              "      <td>210</td>\n",
              "    </tr>\n",
              "    <tr>\n",
              "      <th>1</th>\n",
              "      <td>video_only_ID_1.mp4</td>\n",
              "      <td>60</td>\n",
              "      <td>1.000000</td>\n",
              "      <td>86</td>\n",
              "      <td>266</td>\n",
              "    </tr>\n",
              "    <tr>\n",
              "      <th>2</th>\n",
              "      <td>video_only_ID_1.mp4</td>\n",
              "      <td>90</td>\n",
              "      <td>1.500000</td>\n",
              "      <td>443</td>\n",
              "      <td>412</td>\n",
              "    </tr>\n",
              "    <tr>\n",
              "      <th>3</th>\n",
              "      <td>video_only_ID_1.mp4</td>\n",
              "      <td>100</td>\n",
              "      <td>1.666667</td>\n",
              "      <td>571</td>\n",
              "      <td>377</td>\n",
              "    </tr>\n",
              "    <tr>\n",
              "      <th>4</th>\n",
              "      <td>video_only_ID_1.mp4</td>\n",
              "      <td>140</td>\n",
              "      <td>2.333333</td>\n",
              "      <td>85</td>\n",
              "      <td>230</td>\n",
              "    </tr>\n",
              "  </tbody>\n",
              "</table>\n",
              "</div>\n",
              "    <div class=\"colab-df-buttons\">\n",
              "\n",
              "  <div class=\"colab-df-container\">\n",
              "    <button class=\"colab-df-convert\" onclick=\"convertToInteractive('df-39b8fcf4-da4b-4216-ab88-7a7057db0b59')\"\n",
              "            title=\"Convert this dataframe to an interactive table.\"\n",
              "            style=\"display:none;\">\n",
              "\n",
              "  <svg xmlns=\"http://www.w3.org/2000/svg\" height=\"24px\" viewBox=\"0 -960 960 960\">\n",
              "    <path d=\"M120-120v-720h720v720H120Zm60-500h600v-160H180v160Zm220 220h160v-160H400v160Zm0 220h160v-160H400v160ZM180-400h160v-160H180v160Zm440 0h160v-160H620v160ZM180-180h160v-160H180v160Zm440 0h160v-160H620v160Z\"/>\n",
              "  </svg>\n",
              "    </button>\n",
              "\n",
              "  <style>\n",
              "    .colab-df-container {\n",
              "      display:flex;\n",
              "      gap: 12px;\n",
              "    }\n",
              "\n",
              "    .colab-df-convert {\n",
              "      background-color: #E8F0FE;\n",
              "      border: none;\n",
              "      border-radius: 50%;\n",
              "      cursor: pointer;\n",
              "      display: none;\n",
              "      fill: #1967D2;\n",
              "      height: 32px;\n",
              "      padding: 0 0 0 0;\n",
              "      width: 32px;\n",
              "    }\n",
              "\n",
              "    .colab-df-convert:hover {\n",
              "      background-color: #E2EBFA;\n",
              "      box-shadow: 0px 1px 2px rgba(60, 64, 67, 0.3), 0px 1px 3px 1px rgba(60, 64, 67, 0.15);\n",
              "      fill: #174EA6;\n",
              "    }\n",
              "\n",
              "    .colab-df-buttons div {\n",
              "      margin-bottom: 4px;\n",
              "    }\n",
              "\n",
              "    [theme=dark] .colab-df-convert {\n",
              "      background-color: #3B4455;\n",
              "      fill: #D2E3FC;\n",
              "    }\n",
              "\n",
              "    [theme=dark] .colab-df-convert:hover {\n",
              "      background-color: #434B5C;\n",
              "      box-shadow: 0px 1px 3px 1px rgba(0, 0, 0, 0.15);\n",
              "      filter: drop-shadow(0px 1px 2px rgba(0, 0, 0, 0.3));\n",
              "      fill: #FFFFFF;\n",
              "    }\n",
              "  </style>\n",
              "\n",
              "    <script>\n",
              "      const buttonEl =\n",
              "        document.querySelector('#df-39b8fcf4-da4b-4216-ab88-7a7057db0b59 button.colab-df-convert');\n",
              "      buttonEl.style.display =\n",
              "        google.colab.kernel.accessAllowed ? 'block' : 'none';\n",
              "\n",
              "      async function convertToInteractive(key) {\n",
              "        const element = document.querySelector('#df-39b8fcf4-da4b-4216-ab88-7a7057db0b59');\n",
              "        const dataTable =\n",
              "          await google.colab.kernel.invokeFunction('convertToInteractive',\n",
              "                                                    [key], {});\n",
              "        if (!dataTable) return;\n",
              "\n",
              "        const docLinkHtml = 'Like what you see? Visit the ' +\n",
              "          '<a target=\"_blank\" href=https://colab.research.google.com/notebooks/data_table.ipynb>data table notebook</a>'\n",
              "          + ' to learn more about interactive tables.';\n",
              "        element.innerHTML = '';\n",
              "        dataTable['output_type'] = 'display_data';\n",
              "        await google.colab.output.renderOutput(dataTable, element);\n",
              "        const docLink = document.createElement('div');\n",
              "        docLink.innerHTML = docLinkHtml;\n",
              "        element.appendChild(docLink);\n",
              "      }\n",
              "    </script>\n",
              "  </div>\n",
              "\n",
              "\n",
              "<div id=\"df-e1ffc79b-c84f-4c18-a918-a31b465e860b\">\n",
              "  <button class=\"colab-df-quickchart\" onclick=\"quickchart('df-e1ffc79b-c84f-4c18-a918-a31b465e860b')\"\n",
              "            title=\"Suggest charts\"\n",
              "            style=\"display:none;\">\n",
              "\n",
              "<svg xmlns=\"http://www.w3.org/2000/svg\" height=\"24px\"viewBox=\"0 0 24 24\"\n",
              "     width=\"24px\">\n",
              "    <g>\n",
              "        <path d=\"M19 3H5c-1.1 0-2 .9-2 2v14c0 1.1.9 2 2 2h14c1.1 0 2-.9 2-2V5c0-1.1-.9-2-2-2zM9 17H7v-7h2v7zm4 0h-2V7h2v10zm4 0h-2v-4h2v4z\"/>\n",
              "    </g>\n",
              "</svg>\n",
              "  </button>\n",
              "\n",
              "<style>\n",
              "  .colab-df-quickchart {\n",
              "      --bg-color: #E8F0FE;\n",
              "      --fill-color: #1967D2;\n",
              "      --hover-bg-color: #E2EBFA;\n",
              "      --hover-fill-color: #174EA6;\n",
              "      --disabled-fill-color: #AAA;\n",
              "      --disabled-bg-color: #DDD;\n",
              "  }\n",
              "\n",
              "  [theme=dark] .colab-df-quickchart {\n",
              "      --bg-color: #3B4455;\n",
              "      --fill-color: #D2E3FC;\n",
              "      --hover-bg-color: #434B5C;\n",
              "      --hover-fill-color: #FFFFFF;\n",
              "      --disabled-bg-color: #3B4455;\n",
              "      --disabled-fill-color: #666;\n",
              "  }\n",
              "\n",
              "  .colab-df-quickchart {\n",
              "    background-color: var(--bg-color);\n",
              "    border: none;\n",
              "    border-radius: 50%;\n",
              "    cursor: pointer;\n",
              "    display: none;\n",
              "    fill: var(--fill-color);\n",
              "    height: 32px;\n",
              "    padding: 0;\n",
              "    width: 32px;\n",
              "  }\n",
              "\n",
              "  .colab-df-quickchart:hover {\n",
              "    background-color: var(--hover-bg-color);\n",
              "    box-shadow: 0 1px 2px rgba(60, 64, 67, 0.3), 0 1px 3px 1px rgba(60, 64, 67, 0.15);\n",
              "    fill: var(--button-hover-fill-color);\n",
              "  }\n",
              "\n",
              "  .colab-df-quickchart-complete:disabled,\n",
              "  .colab-df-quickchart-complete:disabled:hover {\n",
              "    background-color: var(--disabled-bg-color);\n",
              "    fill: var(--disabled-fill-color);\n",
              "    box-shadow: none;\n",
              "  }\n",
              "\n",
              "  .colab-df-spinner {\n",
              "    border: 2px solid var(--fill-color);\n",
              "    border-color: transparent;\n",
              "    border-bottom-color: var(--fill-color);\n",
              "    animation:\n",
              "      spin 1s steps(1) infinite;\n",
              "  }\n",
              "\n",
              "  @keyframes spin {\n",
              "    0% {\n",
              "      border-color: transparent;\n",
              "      border-bottom-color: var(--fill-color);\n",
              "      border-left-color: var(--fill-color);\n",
              "    }\n",
              "    20% {\n",
              "      border-color: transparent;\n",
              "      border-left-color: var(--fill-color);\n",
              "      border-top-color: var(--fill-color);\n",
              "    }\n",
              "    30% {\n",
              "      border-color: transparent;\n",
              "      border-left-color: var(--fill-color);\n",
              "      border-top-color: var(--fill-color);\n",
              "      border-right-color: var(--fill-color);\n",
              "    }\n",
              "    40% {\n",
              "      border-color: transparent;\n",
              "      border-right-color: var(--fill-color);\n",
              "      border-top-color: var(--fill-color);\n",
              "    }\n",
              "    60% {\n",
              "      border-color: transparent;\n",
              "      border-right-color: var(--fill-color);\n",
              "    }\n",
              "    80% {\n",
              "      border-color: transparent;\n",
              "      border-right-color: var(--fill-color);\n",
              "      border-bottom-color: var(--fill-color);\n",
              "    }\n",
              "    90% {\n",
              "      border-color: transparent;\n",
              "      border-bottom-color: var(--fill-color);\n",
              "    }\n",
              "  }\n",
              "</style>\n",
              "\n",
              "  <script>\n",
              "    async function quickchart(key) {\n",
              "      const quickchartButtonEl =\n",
              "        document.querySelector('#' + key + ' button');\n",
              "      quickchartButtonEl.disabled = true;  // To prevent multiple clicks.\n",
              "      quickchartButtonEl.classList.add('colab-df-spinner');\n",
              "      try {\n",
              "        const charts = await google.colab.kernel.invokeFunction(\n",
              "            'suggestCharts', [key], {});\n",
              "      } catch (error) {\n",
              "        console.error('Error during call to suggestCharts:', error);\n",
              "      }\n",
              "      quickchartButtonEl.classList.remove('colab-df-spinner');\n",
              "      quickchartButtonEl.classList.add('colab-df-quickchart-complete');\n",
              "    }\n",
              "    (() => {\n",
              "      let quickchartButtonEl =\n",
              "        document.querySelector('#df-e1ffc79b-c84f-4c18-a918-a31b465e860b button');\n",
              "      quickchartButtonEl.style.display =\n",
              "        google.colab.kernel.accessAllowed ? 'block' : 'none';\n",
              "    })();\n",
              "  </script>\n",
              "</div>\n",
              "\n",
              "    </div>\n",
              "  </div>\n"
            ],
            "application/vnd.google.colaboratory.intrinsic+json": {
              "type": "dataframe",
              "variable_name": "df_collision",
              "summary": "{\n  \"name\": \"df_collision\",\n  \"rows\": 909,\n  \"fields\": [\n    {\n      \"column\": \"Video\",\n      \"properties\": {\n        \"dtype\": \"category\",\n        \"num_unique_values\": 45,\n        \"samples\": [\n          \"video_only_ID_45.mp4\",\n          \"video_only_ID_32.mp4\",\n          \"video_only_ID_33.mp4\"\n        ],\n        \"semantic_type\": \"\",\n        \"description\": \"\"\n      }\n    },\n    {\n      \"column\": \"Frame\",\n      \"properties\": {\n        \"dtype\": \"number\",\n        \"std\": 340,\n        \"min\": 18,\n        \"max\": 1199,\n        \"num_unique_values\": 626,\n        \"samples\": [\n          691,\n          70,\n          1049\n        ],\n        \"semantic_type\": \"\",\n        \"description\": \"\"\n      }\n    },\n    {\n      \"column\": \"Timestamp\",\n      \"properties\": {\n        \"dtype\": \"number\",\n        \"std\": 5.671409504820828,\n        \"min\": 0.3,\n        \"max\": 19.983333333333334,\n        \"num_unique_values\": 626,\n        \"samples\": [\n          11.516666666666666,\n          1.1666666666666667,\n          17.483333333333334\n        ],\n        \"semantic_type\": \"\",\n        \"description\": \"\"\n      }\n    },\n    {\n      \"column\": \"X\",\n      \"properties\": {\n        \"dtype\": \"number\",\n        \"std\": 208,\n        \"min\": 80,\n        \"max\": 575,\n        \"num_unique_values\": 264,\n        \"samples\": [\n          84,\n          200,\n          243\n        ],\n        \"semantic_type\": \"\",\n        \"description\": \"\"\n      }\n    },\n    {\n      \"column\": \"Y\",\n      \"properties\": {\n        \"dtype\": \"number\",\n        \"std\": 98,\n        \"min\": 60,\n        \"max\": 419,\n        \"num_unique_values\": 243,\n        \"samples\": [\n          257,\n          411,\n          368\n        ],\n        \"semantic_type\": \"\",\n        \"description\": \"\"\n      }\n    }\n  ]\n}"
            }
          },
          "metadata": {},
          "execution_count": 22
        }
      ],
      "source": [
        "df_collision.head()"
      ]
    },
    {
      "cell_type": "code",
      "execution_count": 23,
      "id": "782d147b",
      "metadata": {
        "execution": {
          "iopub.execute_input": "2025-03-13T18:25:12.377458Z",
          "iopub.status.busy": "2025-03-13T18:25:12.377114Z",
          "iopub.status.idle": "2025-03-13T18:25:12.382996Z",
          "shell.execute_reply": "2025-03-13T18:25:12.381906Z"
        },
        "papermill": {
          "duration": 0.074741,
          "end_time": "2025-03-13T18:25:12.384647",
          "exception": false,
          "start_time": "2025-03-13T18:25:12.309906",
          "status": "completed"
        },
        "tags": [],
        "colab": {
          "base_uri": "https://localhost:8080/"
        },
        "id": "782d147b",
        "outputId": "ffee6808-5955-4435-c971-6957f5107813"
      },
      "outputs": [
        {
          "output_type": "execute_result",
          "data": {
            "text/plain": [
              "(909, 5)"
            ]
          },
          "metadata": {},
          "execution_count": 23
        }
      ],
      "source": [
        "df_collision.shape"
      ]
    },
    {
      "cell_type": "code",
      "execution_count": 30,
      "id": "76f2ce07",
      "metadata": {
        "execution": {
          "iopub.execute_input": "2025-03-13T18:25:13.611750Z",
          "iopub.status.busy": "2025-03-13T18:25:13.611381Z",
          "iopub.status.idle": "2025-03-13T18:25:14.388506Z",
          "shell.execute_reply": "2025-03-13T18:25:14.387416Z"
        },
        "papermill": {
          "duration": 0.910243,
          "end_time": "2025-03-13T18:25:14.390768",
          "exception": false,
          "start_time": "2025-03-13T18:25:13.480525",
          "status": "completed"
        },
        "tags": [],
        "colab": {
          "base_uri": "https://localhost:8080/",
          "height": 706
        },
        "id": "76f2ce07",
        "outputId": "2ed88067-e1a3-41e0-c12d-883c32be7da0"
      },
      "outputs": [
        {
          "output_type": "display_data",
          "data": {
            "text/plain": [
              "<Figure size 1200x600 with 1 Axes>"
            ],
            "image/png": "[encoded data removed]"
          },
          "metadata": {}
        }
      ],
      "source": [
        "collision_counts = df_collision[\"Video\"].value_counts()\n",
        "\n",
        "plt.figure(figsize=(12, 6))\n",
        "sns.barplot(x=collision_counts.index, y=collision_counts.values, palette=\"rocket\")\n",
        "\n",
        "plt.xlabel(\"Video Name\")\n",
        "plt.ylabel(\"Number of Collisions\")\n",
        "plt.title(\"Number of Collisions per Video\")\n",
        "plt.xticks(rotation=90)\n",
        "plt.grid(axis=\"y\", linestyle=\"--\", alpha=0.7)\n",
        "\n",
        "for i, count in enumerate(collision_counts.values):\n",
        "    plt.text(i, count + 0.5, str(count), ha='center', fontsize=10)\n",
        "\n",
        "\n",
        "plt.show()"
      ]
    },
    {
      "cell_type": "code",
      "execution_count": 31,
      "id": "7bb47253",
      "metadata": {
        "execution": {
          "iopub.execute_input": "2025-03-13T18:28:07.755862Z",
          "iopub.status.busy": "2025-03-13T18:28:07.755400Z",
          "iopub.status.idle": "2025-03-13T18:28:07.760185Z",
          "shell.execute_reply": "2025-03-13T18:28:07.759065Z"
        },
        "papermill": {
          "duration": 0.086843,
          "end_time": "2025-03-13T18:28:07.762082",
          "exception": false,
          "start_time": "2025-03-13T18:28:07.675239",
          "status": "completed"
        },
        "tags": [],
        "id": "7bb47253"
      },
      "outputs": [],
      "source": [
        "pitch_impulse_data = {\"Audio\": [], \"Timestamp\": []}"
      ]
    },
    {
      "cell_type": "code",
      "execution_count": 32,
      "id": "b8899338",
      "metadata": {
        "execution": {
          "iopub.execute_input": "2025-03-13T18:28:08.078033Z",
          "iopub.status.busy": "2025-03-13T18:28:08.077624Z",
          "iopub.status.idle": "2025-03-13T18:32:18.511840Z",
          "shell.execute_reply": "2025-03-13T18:32:18.510449Z"
        },
        "papermill": {
          "duration": 250.515945,
          "end_time": "2025-03-13T18:32:18.513773",
          "exception": false,
          "start_time": "2025-03-13T18:28:07.997828",
          "status": "completed"
        },
        "tags": [],
        "colab": {
          "base_uri": "https://localhost:8080/"
        },
        "id": "b8899338",
        "outputId": "e27c7ee5-0116-4af6-f6ad-bd7ac9c58568"
      },
      "outputs": [
        {
          "output_type": "stream",
          "name": "stderr",
          "text": [
            "Processing Audio Files: 100%|██████████| 45/45 [05:03<00:00,  6.74s/file]\n"
          ]
        }
      ],
      "source": [
        "for audio_file in tqdm(os.listdir(audio_folder), desc=\"Processing Audio Files\", unit=\"file\"):\n",
        "    if audio_file.endswith(\".wav\"):\n",
        "        audio_path = os.path.join(audio_folder, audio_file)\n",
        "        y, sr = librosa.load(audio_path, sr=None)\n",
        "\n",
        "        f0, voiced_flag, voiced_probs = librosa.pyin(y, fmin=100, fmax=5000, sr=sr)\n",
        "\n",
        "        time_axis = librosa.frames_to_time(np.arange(len(f0)), sr=sr)\n",
        "\n",
        "        f0 = np.nan_to_num(f0, nan=np.nanmean(f0))\n",
        "        b, a = signal.iirfilter(N=4, Wn=0.01, btype=\"high\", ftype=\"butter\", output=\"ba\")\n",
        "        filtered_f0 = signal.filtfilt(b, a, f0)\n",
        "        impulse_indices = signal.find_peaks(np.abs(filtered_f0), height=np.percentile(np.abs(filtered_f0), 90))[0]\n",
        "        impulse_times = time_axis[impulse_indices]\n",
        "        impulse_pitches = f0[impulse_indices]\n",
        "\n",
        "        for t in impulse_times:\n",
        "            pitch_impulse_data[\"Audio\"].append(audio_file)\n",
        "            pitch_impulse_data[\"Timestamp\"].append(t)"
      ]
    },
    {
      "cell_type": "code",
      "execution_count": 33,
      "id": "e18c1632",
      "metadata": {
        "execution": {
          "iopub.execute_input": "2025-03-13T18:32:18.677469Z",
          "iopub.status.busy": "2025-03-13T18:32:18.677060Z",
          "iopub.status.idle": "2025-03-13T18:32:18.682736Z",
          "shell.execute_reply": "2025-03-13T18:32:18.681569Z"
        },
        "papermill": {
          "duration": 0.089196,
          "end_time": "2025-03-13T18:32:18.684745",
          "exception": false,
          "start_time": "2025-03-13T18:32:18.595549",
          "status": "completed"
        },
        "tags": [],
        "id": "e18c1632"
      },
      "outputs": [],
      "source": [
        "df_pitch = pd.DataFrame(pitch_impulse_data)"
      ]
    },
    {
      "cell_type": "code",
      "execution_count": 34,
      "id": "30afb1e7",
      "metadata": {
        "execution": {
          "iopub.execute_input": "2025-03-13T18:32:18.848325Z",
          "iopub.status.busy": "2025-03-13T18:32:18.847969Z",
          "iopub.status.idle": "2025-03-13T18:32:18.855096Z",
          "shell.execute_reply": "2025-03-13T18:32:18.854181Z"
        },
        "papermill": {
          "duration": 0.091075,
          "end_time": "2025-03-13T18:32:18.856908",
          "exception": false,
          "start_time": "2025-03-13T18:32:18.765833",
          "status": "completed"
        },
        "tags": [],
        "id": "30afb1e7"
      },
      "outputs": [],
      "source": [
        "df_pitch  = df_pitch.sort_values(by=[\"Audio\", \"Timestamp\"], ascending=[True, True]).reset_index(drop=True)"
      ]
    },
    {
      "cell_type": "code",
      "execution_count": 35,
      "id": "1eba6c82",
      "metadata": {
        "execution": {
          "iopub.execute_input": "2025-03-13T18:32:19.019304Z",
          "iopub.status.busy": "2025-03-13T18:32:19.018953Z",
          "iopub.status.idle": "2025-03-13T18:32:19.028683Z",
          "shell.execute_reply": "2025-03-13T18:32:19.027549Z"
        },
        "papermill": {
          "duration": 0.093209,
          "end_time": "2025-03-13T18:32:19.030672",
          "exception": false,
          "start_time": "2025-03-13T18:32:18.937463",
          "status": "completed"
        },
        "tags": [],
        "colab": {
          "base_uri": "https://localhost:8080/",
          "height": 206
        },
        "id": "1eba6c82",
        "outputId": "50112e2c-f4f7-456f-f4ff-1eb42dc50f66"
      },
      "outputs": [
        {
          "output_type": "execute_result",
          "data": {
            "text/plain": [
              "                 Audio  Timestamp\n",
              "0  audio_only_ID_1.wav      1.664\n",
              "1  audio_only_ID_1.wav      2.752\n",
              "2  audio_only_ID_1.wav      4.896\n",
              "3  audio_only_ID_1.wav      5.824\n",
              "4  audio_only_ID_1.wav      8.128"
            ],
            "text/html": [
              "\n",
              "  <div id=\"df-a9ecf167-024b-493c-91f7-1c554adf2f01\" class=\"colab-df-container\">\n",
              "    <div>\n",
              "<style scoped>\n",
              "    .dataframe tbody tr th:only-of-type {\n",
              "        vertical-align: middle;\n",
              "    }\n",
              "\n",
              "    .dataframe tbody tr th {\n",
              "        vertical-align: top;\n",
              "    }\n",
              "\n",
              "    .dataframe thead th {\n",
              "        text-align: right;\n",
              "    }\n",
              "</style>\n",
              "<table border=\"1\" class=\"dataframe\">\n",
              "  <thead>\n",
              "    <tr style=\"text-align: right;\">\n",
              "      <th></th>\n",
              "      <th>Audio</th>\n",
              "      <th>Timestamp</th>\n",
              "    </tr>\n",
              "  </thead>\n",
              "  <tbody>\n",
              "    <tr>\n",
              "      <th>0</th>\n",
              "      <td>audio_only_ID_1.wav</td>\n",
              "      <td>1.664</td>\n",
              "    </tr>\n",
              "    <tr>\n",
              "      <th>1</th>\n",
              "      <td>audio_only_ID_1.wav</td>\n",
              "      <td>2.752</td>\n",
              "    </tr>\n",
              "    <tr>\n",
              "      <th>2</th>\n",
              "      <td>audio_only_ID_1.wav</td>\n",
              "      <td>4.896</td>\n",
              "    </tr>\n",
              "    <tr>\n",
              "      <th>3</th>\n",
              "      <td>audio_only_ID_1.wav</td>\n",
              "      <td>5.824</td>\n",
              "    </tr>\n",
              "    <tr>\n",
              "      <th>4</th>\n",
              "      <td>audio_only_ID_1.wav</td>\n",
              "      <td>8.128</td>\n",
              "    </tr>\n",
              "  </tbody>\n",
              "</table>\n",
              "</div>\n",
              "    <div class=\"colab-df-buttons\">\n",
              "\n",
              "  <div class=\"colab-df-container\">\n",
              "    <button class=\"colab-df-convert\" onclick=\"convertToInteractive('df-a9ecf167-024b-493c-91f7-1c554adf2f01')\"\n",
              "            title=\"Convert this dataframe to an interactive table.\"\n",
              "            style=\"display:none;\">\n",
              "\n",
              "  <svg xmlns=\"http://www.w3.org/2000/svg\" height=\"24px\" viewBox=\"0 -960 960 960\">\n",
              "    <path d=\"M120-120v-720h720v720H120Zm60-500h600v-160H180v160Zm220 220h160v-160H400v160Zm0 220h160v-160H400v160ZM180-400h160v-160H180v160Zm440 0h160v-160H620v160ZM180-180h160v-160H180v160Zm440 0h160v-160H620v160Z\"/>\n",
              "  </svg>\n",
              "    </button>\n",
              "\n",
              "  <style>\n",
              "    .colab-df-container {\n",
              "      display:flex;\n",
              "      gap: 12px;\n",
              "    }\n",
              "\n",
              "    .colab-df-convert {\n",
              "      background-color: #E8F0FE;\n",
              "      border: none;\n",
              "      border-radius: 50%;\n",
              "      cursor: pointer;\n",
              "      display: none;\n",
              "      fill: #1967D2;\n",
              "      height: 32px;\n",
              "      padding: 0 0 0 0;\n",
              "      width: 32px;\n",
              "    }\n",
              "\n",
              "    .colab-df-convert:hover {\n",
              "      background-color: #E2EBFA;\n",
              "      box-shadow: 0px 1px 2px rgba(60, 64, 67, 0.3), 0px 1px 3px 1px rgba(60, 64, 67, 0.15);\n",
              "      fill: #174EA6;\n",
              "    }\n",
              "\n",
              "    .colab-df-buttons div {\n",
              "      margin-bottom: 4px;\n",
              "    }\n",
              "\n",
              "    [theme=dark] .colab-df-convert {\n",
              "      background-color: #3B4455;\n",
              "      fill: #D2E3FC;\n",
              "    }\n",
              "\n",
              "    [theme=dark] .colab-df-convert:hover {\n",
              "      background-color: #434B5C;\n",
              "      box-shadow: 0px 1px 3px 1px rgba(0, 0, 0, 0.15);\n",
              "      filter: drop-shadow(0px 1px 2px rgba(0, 0, 0, 0.3));\n",
              "      fill: #FFFFFF;\n",
              "    }\n",
              "  </style>\n",
              "\n",
              "    <script>\n",
              "      const buttonEl =\n",
              "        document.querySelector('#df-a9ecf167-024b-493c-91f7-1c554adf2f01 button.colab-df-convert');\n",
              "      buttonEl.style.display =\n",
              "        google.colab.kernel.accessAllowed ? 'block' : 'none';\n",
              "\n",
              "      async function convertToInteractive(key) {\n",
              "        const element = document.querySelector('#df-a9ecf167-024b-493c-91f7-1c554adf2f01');\n",
              "        const dataTable =\n",
              "          await google.colab.kernel.invokeFunction('convertToInteractive',\n",
              "                                                    [key], {});\n",
              "        if (!dataTable) return;\n",
              "\n",
              "        const docLinkHtml = 'Like what you see? Visit the ' +\n",
              "          '<a target=\"_blank\" href=https://colab.research.google.com/notebooks/data_table.ipynb>data table notebook</a>'\n",
              "          + ' to learn more about interactive tables.';\n",
              "        element.innerHTML = '';\n",
              "        dataTable['output_type'] = 'display_data';\n",
              "        await google.colab.output.renderOutput(dataTable, element);\n",
              "        const docLink = document.createElement('div');\n",
              "        docLink.innerHTML = docLinkHtml;\n",
              "        element.appendChild(docLink);\n",
              "      }\n",
              "    </script>\n",
              "  </div>\n",
              "\n",
              "\n",
              "<div id=\"df-fd46f146-3e8c-4be0-99bd-9b8b013eb0d9\">\n",
              "  <button class=\"colab-df-quickchart\" onclick=\"quickchart('df-fd46f146-3e8c-4be0-99bd-9b8b013eb0d9')\"\n",
              "            title=\"Suggest charts\"\n",
              "            style=\"display:none;\">\n",
              "\n",
              "<svg xmlns=\"http://www.w3.org/2000/svg\" height=\"24px\"viewBox=\"0 0 24 24\"\n",
              "     width=\"24px\">\n",
              "    <g>\n",
              "        <path d=\"M19 3H5c-1.1 0-2 .9-2 2v14c0 1.1.9 2 2 2h14c1.1 0 2-.9 2-2V5c0-1.1-.9-2-2-2zM9 17H7v-7h2v7zm4 0h-2V7h2v10zm4 0h-2v-4h2v4z\"/>\n",
              "    </g>\n",
              "</svg>\n",
              "  </button>\n",
              "\n",
              "<style>\n",
              "  .colab-df-quickchart {\n",
              "      --bg-color: #E8F0FE;\n",
              "      --fill-color: #1967D2;\n",
              "      --hover-bg-color: #E2EBFA;\n",
              "      --hover-fill-color: #174EA6;\n",
              "      --disabled-fill-color: #AAA;\n",
              "      --disabled-bg-color: #DDD;\n",
              "  }\n",
              "\n",
              "  [theme=dark] .colab-df-quickchart {\n",
              "      --bg-color: #3B4455;\n",
              "      --fill-color: #D2E3FC;\n",
              "      --hover-bg-color: #434B5C;\n",
              "      --hover-fill-color: #FFFFFF;\n",
              "      --disabled-bg-color: #3B4455;\n",
              "      --disabled-fill-color: #666;\n",
              "  }\n",
              "\n",
              "  .colab-df-quickchart {\n",
              "    background-color: var(--bg-color);\n",
              "    border: none;\n",
              "    border-radius: 50%;\n",
              "    cursor: pointer;\n",
              "    display: none;\n",
              "    fill: var(--fill-color);\n",
              "    height: 32px;\n",
              "    padding: 0;\n",
              "    width: 32px;\n",
              "  }\n",
              "\n",
              "  .colab-df-quickchart:hover {\n",
              "    background-color: var(--hover-bg-color);\n",
              "    box-shadow: 0 1px 2px rgba(60, 64, 67, 0.3), 0 1px 3px 1px rgba(60, 64, 67, 0.15);\n",
              "    fill: var(--button-hover-fill-color);\n",
              "  }\n",
              "\n",
              "  .colab-df-quickchart-complete:disabled,\n",
              "  .colab-df-quickchart-complete:disabled:hover {\n",
              "    background-color: var(--disabled-bg-color);\n",
              "    fill: var(--disabled-fill-color);\n",
              "    box-shadow: none;\n",
              "  }\n",
              "\n",
              "  .colab-df-spinner {\n",
              "    border: 2px solid var(--fill-color);\n",
              "    border-color: transparent;\n",
              "    border-bottom-color: var(--fill-color);\n",
              "    animation:\n",
              "      spin 1s steps(1) infinite;\n",
              "  }\n",
              "\n",
              "  @keyframes spin {\n",
              "    0% {\n",
              "      border-color: transparent;\n",
              "      border-bottom-color: var(--fill-color);\n",
              "      border-left-color: var(--fill-color);\n",
              "    }\n",
              "    20% {\n",
              "      border-color: transparent;\n",
              "      border-left-color: var(--fill-color);\n",
              "      border-top-color: var(--fill-color);\n",
              "    }\n",
              "    30% {\n",
              "      border-color: transparent;\n",
              "      border-left-color: var(--fill-color);\n",
              "      border-top-color: var(--fill-color);\n",
              "      border-right-color: var(--fill-color);\n",
              "    }\n",
              "    40% {\n",
              "      border-color: transparent;\n",
              "      border-right-color: var(--fill-color);\n",
              "      border-top-color: var(--fill-color);\n",
              "    }\n",
              "    60% {\n",
              "      border-color: transparent;\n",
              "      border-right-color: var(--fill-color);\n",
              "    }\n",
              "    80% {\n",
              "      border-color: transparent;\n",
              "      border-right-color: var(--fill-color);\n",
              "      border-bottom-color: var(--fill-color);\n",
              "    }\n",
              "    90% {\n",
              "      border-color: transparent;\n",
              "      border-bottom-color: var(--fill-color);\n",
              "    }\n",
              "  }\n",
              "</style>\n",
              "\n",
              "  <script>\n",
              "    async function quickchart(key) {\n",
              "      const quickchartButtonEl =\n",
              "        document.querySelector('#' + key + ' button');\n",
              "      quickchartButtonEl.disabled = true;  // To prevent multiple clicks.\n",
              "      quickchartButtonEl.classList.add('colab-df-spinner');\n",
              "      try {\n",
              "        const charts = await google.colab.kernel.invokeFunction(\n",
              "            'suggestCharts', [key], {});\n",
              "      } catch (error) {\n",
              "        console.error('Error during call to suggestCharts:', error);\n",
              "      }\n",
              "      quickchartButtonEl.classList.remove('colab-df-spinner');\n",
              "      quickchartButtonEl.classList.add('colab-df-quickchart-complete');\n",
              "    }\n",
              "    (() => {\n",
              "      let quickchartButtonEl =\n",
              "        document.querySelector('#df-fd46f146-3e8c-4be0-99bd-9b8b013eb0d9 button');\n",
              "      quickchartButtonEl.style.display =\n",
              "        google.colab.kernel.accessAllowed ? 'block' : 'none';\n",
              "    })();\n",
              "  </script>\n",
              "</div>\n",
              "\n",
              "    </div>\n",
              "  </div>\n"
            ],
            "application/vnd.google.colaboratory.intrinsic+json": {
              "type": "dataframe",
              "variable_name": "df_pitch",
              "summary": "{\n  \"name\": \"df_pitch\",\n  \"rows\": 853,\n  \"fields\": [\n    {\n      \"column\": \"Audio\",\n      \"properties\": {\n        \"dtype\": \"category\",\n        \"num_unique_values\": 45,\n        \"samples\": [\n          \"audio_only_ID_45.wav\",\n          \"audio_only_ID_32.wav\",\n          \"audio_only_ID_33.wav\"\n        ],\n        \"semantic_type\": \"\",\n        \"description\": \"\"\n      }\n    },\n    {\n      \"column\": \"Timestamp\",\n      \"properties\": {\n        \"dtype\": \"number\",\n        \"std\": 5.701272457924969,\n        \"min\": 0.032,\n        \"max\": 19.904,\n        \"num_unique_values\": 450,\n        \"samples\": [\n          4.0,\n          10.112,\n          6.08\n        ],\n        \"semantic_type\": \"\",\n        \"description\": \"\"\n      }\n    }\n  ]\n}"
            }
          },
          "metadata": {},
          "execution_count": 35
        }
      ],
      "source": [
        "df_pitch.head()"
      ]
    },
    {
      "cell_type": "code",
      "execution_count": 36,
      "id": "692c3bda",
      "metadata": {
        "execution": {
          "iopub.execute_input": "2025-03-13T18:32:19.197620Z",
          "iopub.status.busy": "2025-03-13T18:32:19.197039Z",
          "iopub.status.idle": "2025-03-13T18:32:19.203362Z",
          "shell.execute_reply": "2025-03-13T18:32:19.202177Z"
        },
        "papermill": {
          "duration": 0.091966,
          "end_time": "2025-03-13T18:32:19.205099",
          "exception": false,
          "start_time": "2025-03-13T18:32:19.113133",
          "status": "completed"
        },
        "tags": [],
        "colab": {
          "base_uri": "https://localhost:8080/"
        },
        "id": "692c3bda",
        "outputId": "96e8f6c5-746c-4074-9d28-be019cf5e59a"
      },
      "outputs": [
        {
          "output_type": "execute_result",
          "data": {
            "text/plain": [
              "(853, 2)"
            ]
          },
          "metadata": {},
          "execution_count": 36
        }
      ],
      "source": [
        "df_pitch.shape"
      ]
    },
    {
      "cell_type": "code",
      "execution_count": 37,
      "id": "211c3932",
      "metadata": {
        "execution": {
          "iopub.execute_input": "2025-03-13T18:32:19.373610Z",
          "iopub.status.busy": "2025-03-13T18:32:19.373175Z",
          "iopub.status.idle": "2025-03-13T18:32:20.011974Z",
          "shell.execute_reply": "2025-03-13T18:32:20.010903Z"
        },
        "papermill": {
          "duration": 0.724624,
          "end_time": "2025-03-13T18:32:20.013583",
          "exception": false,
          "start_time": "2025-03-13T18:32:19.288959",
          "status": "completed"
        },
        "tags": [],
        "colab": {
          "base_uri": "https://localhost:8080/",
          "height": 704
        },
        "id": "211c3932",
        "outputId": "0555d27d-ffc3-41ec-975c-4a63a7b474dc"
      },
      "outputs": [
        {
          "output_type": "display_data",
          "data": {
            "text/plain": [
              "<Figure size 1200x600 with 1 Axes>"
            ],
            "image/png": "[encoded data removed]"
          },
          "metadata": {}
        }
      ],
      "source": [
        "pitch_counts = df_pitch[\"Audio\"].value_counts()\n",
        "\n",
        "plt.figure(figsize=(12, 6))\n",
        "sns.barplot(x=pitch_counts.index, y=pitch_counts.values, palette=\"rocket\")\n",
        "\n",
        "plt.xlabel(\"Audio File\")\n",
        "plt.ylabel(\"Number of Sudden Pitch Changes\")\n",
        "plt.title(\"Sudden Pitch Increases Per Audio File (Descending Order)\")\n",
        "plt.xticks(rotation=90, ha=\"right\")\n",
        "\n",
        "for i, count in enumerate(pitch_counts.values):\n",
        "    plt.text(i, count + 1, str(count), ha=\"center\", va=\"bottom\", fontsize=10)\n",
        "\n",
        "plt.show()"
      ]
    },
    {
      "cell_type": "code",
      "execution_count": 38,
      "id": "9dd758c1",
      "metadata": {
        "execution": {
          "iopub.execute_input": "2025-03-13T18:32:20.352525Z",
          "iopub.status.busy": "2025-03-13T18:32:20.352146Z",
          "iopub.status.idle": "2025-03-13T18:32:20.359106Z",
          "shell.execute_reply": "2025-03-13T18:32:20.358187Z"
        },
        "papermill": {
          "duration": 0.092669,
          "end_time": "2025-03-13T18:32:20.360726",
          "exception": false,
          "start_time": "2025-03-13T18:32:20.268057",
          "status": "completed"
        },
        "tags": [],
        "id": "9dd758c1"
      },
      "outputs": [],
      "source": [
        "def match_audio_video(audio_files, video_files, df_pitch, df_collision):\n",
        "    best_matches = {}\n",
        "    distance_matrix = []\n",
        "\n",
        "    nn_audio = NearestNeighbors(n_neighbors=1, metric='euclidean')\n",
        "\n",
        "    for audio_file in audio_files:\n",
        "        audio_times = np.unique(df_pitch[df_pitch[\"Audio\"] == audio_file][\"Timestamp\"].values)\n",
        "        nn_audio.fit(audio_times.reshape(-1, 1))\n",
        "\n",
        "        audio_distances = []\n",
        "        for video_file in video_files:\n",
        "            video_times = np.unique(df_collision[df_collision[\"Video\"] == video_file][\"Timestamp\"].values)\n",
        "\n",
        "            distances, _ = nn_audio.kneighbors(video_times.reshape(-1, 1))\n",
        "\n",
        "            mean_distance = np.mean(distances)\n",
        "            audio_distances.append(mean_distance)\n",
        "\n",
        "        distance_matrix.append(audio_distances)\n",
        "\n",
        "    distance_matrix = np.array(distance_matrix)\n",
        "\n",
        "    row_ind, col_ind = linear_sum_assignment(distance_matrix)\n",
        "\n",
        "    for audio_idx, video_idx in zip(row_ind, col_ind):\n",
        "        audio_file = audio_files[audio_idx]\n",
        "        video_file = video_files[video_idx]\n",
        "        best_matches[audio_file] = video_file\n",
        "\n",
        "    return best_matches"
      ]
    },
    {
      "cell_type": "code",
      "execution_count": 39,
      "id": "9ff5f3e9",
      "metadata": {
        "execution": {
          "iopub.execute_input": "2025-03-13T18:32:20.528976Z",
          "iopub.status.busy": "2025-03-13T18:32:20.528586Z",
          "iopub.status.idle": "2025-03-13T18:32:22.457006Z",
          "shell.execute_reply": "2025-03-13T18:32:22.455956Z"
        },
        "papermill": {
          "duration": 2.015953,
          "end_time": "2025-03-13T18:32:22.459137",
          "exception": false,
          "start_time": "2025-03-13T18:32:20.443184",
          "status": "completed"
        },
        "tags": [],
        "id": "9ff5f3e9"
      },
      "outputs": [],
      "source": [
        "final_mapping = match_audio_video(audio_files, video_files, df_pitch, df_collision)"
      ]
    },
    {
      "cell_type": "code",
      "execution_count": 40,
      "id": "cbd860e7",
      "metadata": {
        "execution": {
          "iopub.execute_input": "2025-03-13T18:32:22.626130Z",
          "iopub.status.busy": "2025-03-13T18:32:22.625725Z",
          "iopub.status.idle": "2025-03-13T18:32:22.637547Z",
          "shell.execute_reply": "2025-03-13T18:32:22.636248Z"
        },
        "papermill": {
          "duration": 0.097112,
          "end_time": "2025-03-13T18:32:22.639466",
          "exception": false,
          "start_time": "2025-03-13T18:32:22.542354",
          "status": "completed"
        },
        "tags": [],
        "colab": {
          "base_uri": "https://localhost:8080/"
        },
        "id": "cbd860e7",
        "outputId": "5c05422c-a02e-426e-8459-edfc417371bd"
      },
      "outputs": [
        {
          "output_type": "stream",
          "name": "stdout",
          "text": [
            "Final Audio-Video Mapping:\n",
            "audio_only_ID_16.wav -> video_only_ID_18.mp4\n",
            "audio_only_ID_37.wav -> video_only_ID_29.mp4\n",
            "audio_only_ID_36.wav -> video_only_ID_44.mp4\n",
            "audio_only_ID_42.wav -> video_only_ID_23.mp4\n",
            "audio_only_ID_32.wav -> video_only_ID_31.mp4\n",
            "audio_only_ID_8.wav -> video_only_ID_32.mp4\n",
            "audio_only_ID_19.wav -> video_only_ID_5.mp4\n",
            "audio_only_ID_34.wav -> video_only_ID_41.mp4\n",
            "audio_only_ID_18.wav -> video_only_ID_4.mp4\n",
            "audio_only_ID_22.wav -> video_only_ID_45.mp4\n",
            "audio_only_ID_12.wav -> video_only_ID_28.mp4\n",
            "audio_only_ID_14.wav -> video_only_ID_7.mp4\n",
            "audio_only_ID_2.wav -> video_only_ID_16.mp4\n",
            "audio_only_ID_24.wav -> video_only_ID_12.mp4\n",
            "audio_only_ID_6.wav -> video_only_ID_13.mp4\n",
            "audio_only_ID_11.wav -> video_only_ID_24.mp4\n",
            "audio_only_ID_1.wav -> video_only_ID_2.mp4\n",
            "audio_only_ID_44.wav -> video_only_ID_9.mp4\n",
            "audio_only_ID_5.wav -> video_only_ID_17.mp4\n",
            "audio_only_ID_31.wav -> video_only_ID_6.mp4\n",
            "audio_only_ID_30.wav -> video_only_ID_15.mp4\n",
            "audio_only_ID_33.wav -> video_only_ID_27.mp4\n",
            "audio_only_ID_35.wav -> video_only_ID_43.mp4\n",
            "audio_only_ID_40.wav -> video_only_ID_3.mp4\n",
            "audio_only_ID_23.wav -> video_only_ID_10.mp4\n",
            "audio_only_ID_25.wav -> video_only_ID_39.mp4\n",
            "audio_only_ID_39.wav -> video_only_ID_19.mp4\n",
            "audio_only_ID_10.wav -> video_only_ID_42.mp4\n",
            "audio_only_ID_43.wav -> video_only_ID_33.mp4\n",
            "audio_only_ID_3.wav -> video_only_ID_20.mp4\n",
            "audio_only_ID_27.wav -> video_only_ID_40.mp4\n",
            "audio_only_ID_17.wav -> video_only_ID_34.mp4\n",
            "audio_only_ID_38.wav -> video_only_ID_8.mp4\n",
            "audio_only_ID_21.wav -> video_only_ID_26.mp4\n",
            "audio_only_ID_4.wav -> video_only_ID_21.mp4\n",
            "audio_only_ID_28.wav -> video_only_ID_25.mp4\n",
            "audio_only_ID_26.wav -> video_only_ID_35.mp4\n",
            "audio_only_ID_45.wav -> video_only_ID_1.mp4\n",
            "audio_only_ID_7.wav -> video_only_ID_37.mp4\n",
            "audio_only_ID_13.wav -> video_only_ID_14.mp4\n",
            "audio_only_ID_15.wav -> video_only_ID_38.mp4\n",
            "audio_only_ID_20.wav -> video_only_ID_11.mp4\n",
            "audio_only_ID_9.wav -> video_only_ID_36.mp4\n",
            "audio_only_ID_29.wav -> video_only_ID_30.mp4\n",
            "audio_only_ID_41.wav -> video_only_ID_22.mp4\n"
          ]
        }
      ],
      "source": [
        "print(\"Final Audio-Video Mapping:\")\n",
        "for audio, video in final_mapping.items():\n",
        "    print(f\"{audio} -> {video}\")"
      ]
    },
    {
      "cell_type": "code",
      "source": [
        "import csv\n",
        "\n",
        "# Define the CSV file name\n",
        "csv_filename = \"final_audio_video_mapping.csv\"\n",
        "\n",
        "# Open the file in write mode\n",
        "with open(csv_filename, mode=\"w\", newline=\"\") as file:\n",
        "    writer = csv.writer(file)\n",
        "\n",
        "    # Write the header\n",
        "    writer.writerow([\"Audio File\", \"Video File\"])\n",
        "\n",
        "    # Write the mappings\n",
        "    for audio, video in final_mapping.items():\n",
        "        writer.writerow([audio, video])\n",
        "\n",
        "print(f\"CSV file '{csv_filename}' has been created successfully.\")\n"
      ],
      "metadata": {
        "colab": {
          "base_uri": "https://localhost:8080/"
        },
        "id": "Jp7CkdGduiKv",
        "outputId": "5313f57d-0682-4ec5-f985-024ef8fcd107"
      },
      "id": "Jp7CkdGduiKv",
      "execution_count": 48,
      "outputs": [
        {
          "output_type": "stream",
          "name": "stdout",
          "text": [
            "CSV file 'final_audio_video_mapping.csv' has been created successfully.\n"
          ]
        }
      ]
    }
  ],
  "metadata": {
    "kaggle": {
      "accelerator": "none",
      "dataSources": [
        {
          "datasetId": 6852644,
          "sourceId": 11007312,
          "sourceType": "datasetVersion"
        }
      ],
      "dockerImageVersionId": 30918,
      "isGpuEnabled": false,
      "isInternetEnabled": true,
      "language": "python",
      "sourceType": "notebook"
    },
    "kernelspec": {
      "display_name": "Python 3",
      "language": "python",
      "name": "python3"
    },
    "language_info": {
      "codemirror_mode": {
        "name": "ipython",
        "version": 3
      },
      "file_extension": ".py",
      "mimetype": "text/x-python",
      "name": "python",
      "nbconvert_exporter": "python",
      "pygments_lexer": "ipython3",
      "version": "3.10.12"
    },
    "papermill": {
      "default_parameters": {},
      "duration": 760.703217,
      "end_time": "2025-03-13T18:34:18.846936",
      "environment_variables": {},
      "exception": null,
      "input_path": "__notebook__.ipynb",
      "output_path": "__notebook__.ipynb",
      "parameters": {},
      "start_time": "2025-03-13T18:21:38.143719",
      "version": "2.6.0"
    },
    "colab": {
      "provenance": []
    }
  },
  "nbformat": 4,
  "nbformat_minor": 5
}