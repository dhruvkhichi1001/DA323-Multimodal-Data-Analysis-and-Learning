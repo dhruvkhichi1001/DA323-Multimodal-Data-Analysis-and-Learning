{
  "nbformat": 4,
  "nbformat_minor": 0,
  "metadata": {
    "colab": {
      "provenance": []
    },
    "kernelspec": {
      "name": "python3",
      "display_name": "Python 3"
    },
    "language_info": {
      "name": "python"
    }
  },
  "cells": [
    {
      "cell_type": "code",
      "source": [
        "!pip install schedule"
      ],
      "metadata": {
        "id": "wxIxp8DMQBCw"
      },
      "execution_count": null,
      "outputs": []
    },
    {
      "cell_type": "code",
      "source": [
        "import requests\n",
        "import csv\n",
        "from datetime import datetime\n",
        "\n",
        "# OpenWeatherMap API Key (Get from https://openweathermap.org/api)\n",
        "API_KEY = \"9c327d6b985f175ed2219f184ef34e09\"\n",
        "\n",
        "# List of 20 Indian cities\n",
        "cities = [\n",
        "    \"Delhi\", \"Mumbai\", \"Bangalore\", \"Hyderabad\", \"Ahmedabad\", \"Chennai\", \"Kolkata\", \"Pune\", \"Jaipur\", \"Lucknow\",\n",
        "    \"Kanpur\", \"Nagpur\", \"Indore\", \"Thane\", \"Bhopal\", \"Visakhapatnam\", \"Patna\", \"Ludhiana\", \"Agra\", \"Nashik\"\n",
        "]\n",
        "\n",
        "# CSV file to store weather data\n",
        "CSV_FILE = \"IndiaWeatherData.csv\"\n",
        "\n",
        "# OpenWeatherMap API endpoint\n",
        "BASE_URL = \"http://api.openweathermap.org/data/2.5/weather\"\n",
        "\n",
        "# Function to fetch weather data\n",
        "def fetch_weather():\n",
        "    print(\"\\n🌤️ Fetching Real-Time Weather Data...\\n\")\n",
        "    weather_data = []\n",
        "\n",
        "    for city in cities:\n",
        "        params = {\"q\": city, \"appid\": API_KEY, \"units\": \"metric\"}\n",
        "        response = requests.get(BASE_URL, params=params)\n",
        "\n",
        "        if response.status_code == 200:\n",
        "            data = response.json()\n",
        "            weather_entry = {\n",
        "                \"City\": city,\n",
        "                \"Date & Time\": datetime.now().strftime(\"%Y-%m-%d %H:%M:%S\"),\n",
        "                \"Temperature (°C)\": data[\"main\"][\"temp\"],\n",
        "                \"Humidity (%)\": data[\"main\"][\"humidity\"],\n",
        "                \"Wind Speed (m/s)\": data[\"wind\"][\"speed\"]\n",
        "            }\n",
        "            weather_data.append(weather_entry)\n",
        "            print(f\"✅ Collected data for {city}\")\n",
        "        else:\n",
        "            print(f\"⚠️ Failed to fetch data for {city}\")\n",
        "\n",
        "    # Save data to CSV\n",
        "    save_to_csv(weather_data)\n",
        "\n",
        "# Function to save data to CSV\n",
        "def save_to_csv(data):\n",
        "    file_exists = False\n",
        "    try:\n",
        "        with open(CSV_FILE, \"r\"):\n",
        "            file_exists = True\n",
        "    except FileNotFoundError:\n",
        "        pass\n",
        "\n",
        "    with open(CSV_FILE, \"a\", newline=\"\") as file:\n",
        "        writer = csv.DictWriter(file, fieldnames=[\"City\", \"Date & Time\", \"Temperature (°C)\", \"Humidity (%)\", \"Wind Speed (m/s)\"])\n",
        "\n",
        "        # Write headers if file is new\n",
        "        if not file_exists:\n",
        "            writer.writeheader()\n",
        "\n",
        "        writer.writerows(data)\n",
        "\n",
        "# Run the function once for real-time data\n",
        "fetch_weather()\n",
        "\n",
        "print(\"\\n✅ Weather data saved in 'IndiaWeatherData.csv'.\")"
      ],
      "metadata": {
        "id": "a0maEw7KPg9Y"
      },
      "execution_count": 1,
      "outputs": []
    }
  ]
}